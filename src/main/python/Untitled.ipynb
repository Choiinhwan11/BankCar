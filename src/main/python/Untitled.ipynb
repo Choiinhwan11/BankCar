{
 "cells": [
  {
   "cell_type": "code",
   "execution_count": 6,
   "id": "9eda5e5e",
   "metadata": {},
   "outputs": [
    {
     "name": "stdout",
     "output_type": "stream",
     "text": [
      "Collecting mysql-connector-python\n",
      "  Downloading mysql_connector_python-8.4.0-cp310-cp310-win_amd64.whl.metadata (2.0 kB)\n",
      "Downloading mysql_connector_python-8.4.0-cp310-cp310-win_amd64.whl (14.5 MB)\n",
      "   ---------------------------------------- 0.0/14.5 MB ? eta -:--:--\n",
      "   - -------------------------------------- 0.5/14.5 MB 10.7 MB/s eta 0:00:02\n",
      "   --- ------------------------------------ 1.3/14.5 MB 16.2 MB/s eta 0:00:01\n",
      "   ------ --------------------------------- 2.2/14.5 MB 17.6 MB/s eta 0:00:01\n",
      "   --------- ------------------------------ 3.3/14.5 MB 19.1 MB/s eta 0:00:01\n",
      "   ------------- -------------------------- 4.9/14.5 MB 22.1 MB/s eta 0:00:01\n",
      "   ---------------- ----------------------- 6.0/14.5 MB 22.4 MB/s eta 0:00:01\n",
      "   ------------------- -------------------- 7.1/14.5 MB 22.6 MB/s eta 0:00:01\n",
      "   ----------------------- ---------------- 8.5/14.5 MB 23.5 MB/s eta 0:00:01\n",
      "   ---------------------------- ----------- 10.2/14.5 MB 24.9 MB/s eta 0:00:01\n",
      "   --------------------------------- ------ 12.2/14.5 MB 31.1 MB/s eta 0:00:01\n",
      "   ---------------------------------------  14.1/14.5 MB 34.6 MB/s eta 0:00:01\n",
      "   ---------------------------------------  14.4/14.5 MB 34.4 MB/s eta 0:00:01\n",
      "   ---------------------------------------  14.4/14.5 MB 34.4 MB/s eta 0:00:01\n",
      "   ---------------------------------------  14.4/14.5 MB 34.4 MB/s eta 0:00:01\n",
      "   ---------------------------------------- 14.5/14.5 MB 21.8 MB/s eta 0:00:00\n",
      "Installing collected packages: mysql-connector-python\n",
      "Successfully installed mysql-connector-python-8.4.0\n",
      "Note: you may need to restart the kernel to use updated packages.\n"
     ]
    }
   ],
   "source": [
    "# %pip install mysql-connector-python"
   ]
  },
  {
   "cell_type": "code",
   "execution_count": 30,
   "id": "404048c2",
   "metadata": {},
   "outputs": [],
   "source": [
    "import mysql.connector\n",
    "import random\n",
    "from datetime import datetime, timedelta\n",
    "\n",
    "# MySQL 데이터베이스에 연결\n",
    "# conn = mysql.connector.connect(\n",
    "#     host='db-n2k14-kr.vpc-pub-cdb.ntruss.com',  # MySQL 호스트 주소 (프로토콜과 포트만 포함)\n",
    "#     port=3306,  # MySQL 포트 번호 (기본값 3306)\n",
    "#     user='user',  # MySQL 사용자 이름\n",
    "#     password='bankcar!@#123',  # MySQL 사용자 비밀번호\n",
    "#     database='bankcar'  # 사용할 데이터베이스 이름\n",
    "# )\n",
    "conn = mysql.connector.connect(\n",
    "    host='localhost',  # MySQL 호스트 주소 (프로토콜과 포트만 포함)\n",
    "    port=3306,  # MySQL 포트 번호 (기본값 3306)\n",
    "    user='root',  # MySQL 사용자 이름\n",
    "    password='1234',  # MySQL 사용자 비밀번호\n",
    "    database='bankcar'  # 사용할 데이터베이스 이름\n",
    ")\n",
    "cursor = conn.cursor()"
   ]
  },
  {
   "cell_type": "code",
   "execution_count": 31,
   "id": "bf768846",
   "metadata": {},
   "outputs": [],
   "source": [
    "import json\n",
    "import pandas as pd\n",
    "\n",
    "# 텍스트 파일에서 JSON 데이터 읽어오기\n",
    "with open(\"cardata.txt\", 'r', encoding='utf-8') as file:\n",
    "    json_data = file.read()\n",
    "\n",
    "# JSON 데이터 파싱\n",
    "data = json.loads(json_data)\n",
    "\n",
    "# 데이터프레임으로 변환할 리스트 초기화\n",
    "dataset = []\n",
    "\n",
    "# 각 데이터 요소에 대해 필요한 정보 추출\n",
    "for item in data:\n",
    "    car_id = item['metadata']['product']['id']\n",
    "    doro_address = item['metadata']['depots']['pickupDepot']['name'].split('(')[0].strip()  # 띄어쓰기 이후 자르기\n",
    "    model = item['props']['title']\n",
    "    category = item['props']['subtitle'].split(' ') \n",
    "    if len(category) > 2:\n",
    "        category = category[2]  # \"또는 동급의 \" 이후 잘라주기\n",
    "    else:\n",
    "        category = category[1] \n",
    "    price = int(item['props']['price']['current'].replace(\"₩\", \"\").replace(\",\", \"\").split('.')[0])  # \\ 제거하고 int로 변환\n",
    "    rating = item['props']['review']['score'] if 'review' in item['props'] else 0  # 리뷰가 없을 때 None 처리\n",
    "    \n",
    "    # 데이터프레임으로 변환할 딕셔너리에 정보 추가\n",
    "    dataset.append({\n",
    "        \"car_id\": car_id,\n",
    "        \"doro_address\": \"서울특별시 \" + doro_address,\n",
    "        \"model\": model,\n",
    "        \"category\": category,\n",
    "        \"price\": int(round(price / 24, -1)),\n",
    "        \"rating\": rating\n",
    "    })\n",
    "\n",
    "# 데이터프레임 생성\n",
    "df = pd.DataFrame(dataset)"
   ]
  },
  {
   "cell_type": "code",
   "execution_count": 32,
   "id": "66653d62",
   "metadata": {},
   "outputs": [
    {
     "name": "stdout",
     "output_type": "stream",
     "text": [
      "       car_id    doro_address             model category  price rating\n",
      "0   759822906        서울특별시 강남    Hyundai Avante       대형   5870      0\n",
      "1   758902421     서울특별시 서울 시내    Hyundai Avante       대형   5870    9.5\n",
      "2   758902441     서울특별시 서울 시내      Kia Carnival      미니밴  10680    9.5\n",
      "3   759822911        서울특별시 강남    Hyundai Sonata       대형   6410      0\n",
      "4   758902426     서울특별시 서울 시내    Hyundai Sonata       대형   6410    9.5\n",
      "5   759822926        서울특별시 강남      Kia Carnival      미니밴  10680      0\n",
      "6   758902431     서울특별시 서울 시내       Genesis G80     프리미엄  10680    9.5\n",
      "7   759360596  서울특별시 서울 김포 공항    Hyundai Avante       대형   5870      0\n",
      "8   758902436     서울특별시 서울 시내  Hyundai Grandeur       대형   9080    9.5\n",
      "9   759360611  서울특별시 서울 김포 공항  Hyundai Grandeur       대형   9080      0\n",
      "10  759360601  서울특별시 서울 김포 공항    Hyundai Sonata       대형   6410      0\n",
      "11  759360606  서울특별시 서울 김포 공항       Genesis G80     프리미엄  10680      0\n",
      "12  759822921        서울특별시 강남  Hyundai Grandeur       대형   9080      0\n",
      "13  759822916        서울특별시 강남       Genesis G80     프리미엄  10680      0\n",
      "14  759360616  서울특별시 서울 김포 공항      Kia Carnival      미니밴  10680      0\n"
     ]
    }
   ],
   "source": [
    "print(df)"
   ]
  },
  {
   "cell_type": "code",
   "execution_count": 33,
   "id": "16b177f2",
   "metadata": {},
   "outputs": [],
   "source": [
    "# # 데이터 생성 함수들\n",
    "# def random_date():\n",
    "#     start_date = datetime(2010, 1, 1)\n",
    "#     end_date = datetime.now()\n",
    "#     return start_date + (end_date - start_date) * random.random()\n",
    "\n",
    "# def generate_price(category):\n",
    "#     if category == 'SUV':\n",
    "#         return random.randint(80000, 150000)\n",
    "#     elif category == '세단':\n",
    "#         return random.randint(50000, 100000)\n",
    "#     elif category == '트럭':\n",
    "#         return random.randint(70000, 130000)\n",
    "#     elif category == '쿠페' or category == '컨버터블':\n",
    "#         return random.randint(90000, 160000)\n",
    "#     elif category == '해치백':\n",
    "#         return random.randint(40000, 80000)\n",
    "#     elif category == '밴':\n",
    "#         return random.randint(60000, 120000)\n",
    "#     else:\n",
    "#         return random.randint(50000, 100000)\n",
    "\n",
    "# # categories = ['캠핑', '비지니스', '데이트', '여행', '전기차']\n",
    "# colors = ['빨강', '파랑', '초록', '검정', '흰색', '노랑', '회색']"
   ]
  },
  {
   "cell_type": "code",
   "execution_count": 34,
   "id": "1e026621",
   "metadata": {},
   "outputs": [
    {
     "name": "stdout",
     "output_type": "stream",
     "text": [
      "      car_id doro_address           model category  price rating    user_id  \\\n",
      "0  759822906     서울특별시 강남  Hyundai Avante       대형   5870      0  user_3506   \n",
      "1  758902421  서울특별시 서울 시내  Hyundai Avante       대형   5870    9.5  user_4158   \n",
      "2  758902441  서울특별시 서울 시내    Kia Carnival      미니밴  10680    9.5  user_5751   \n",
      "3  759822911     서울특별시 강남  Hyundai Sonata       대형   6410      0   user_927   \n",
      "4  758902426  서울특별시 서울 시내  Hyundai Sonata       대형   6410    9.5  user_8092   \n",
      "\n",
      "  color created_date  \n",
      "0    초록   2024-06-10  \n",
      "1    흰색   2024-06-10  \n",
      "2    빨강   2024-06-10  \n",
      "3    초록   2024-06-10  \n",
      "4    빨강   2024-06-10  \n"
     ]
    }
   ],
   "source": [
    "df['user_id'] = None\n",
    "df['color'] = None\n",
    "df['created_date'] = None\n",
    "colors = ['빨강', '파랑', '초록', '검정', '흰색']\n",
    "\n",
    "for index in df.index:\n",
    "    df.at[index, 'user_id'] = f'user_{random.randint(1, 10000)}'\n",
    "    df.at[index, 'created_date'] = datetime.now().strftime('%Y-%m-%d')\n",
    "    df.at[index, 'color'] = random.choice(colors)\n",
    "    \n",
    "print(df.head()) "
   ]
  },
  {
   "cell_type": "code",
   "execution_count": 35,
   "id": "08eaaba1",
   "metadata": {},
   "outputs": [
    {
     "name": "stdout",
     "output_type": "stream",
     "text": [
      "Data inserted successfully.\n"
     ]
    }
   ],
   "source": [
    "for index, row in df.iterrows():\n",
    "    cursor.execute('''\n",
    "    INSERT IGNORE INTO CAR_DATA (car_id, doro_address, model, category, price, rating, user_id, created_date, color)\n",
    "    VALUES (%s, %s, %s, %s, %s, %s, %s, %s, %s)\n",
    "    ''', (row['car_id'], row['doro_address'], row['model'], row['category'], row['price'], row['rating'], row['user_id'], row['created_date'], row['color']))\n",
    "\n",
    "conn.commit()\n",
    "conn.close()\n",
    "\n",
    "print(\"Data inserted successfully.\")"
   ]
  },
  {
   "cell_type": "code",
   "execution_count": 7,
   "id": "323c3a6a",
   "metadata": {},
   "outputs": [],
   "source": [
    "# create_table_query = '''\n",
    "# CREATE TABLE IF NOT EXISTS CAR_DATA (\n",
    "#     car_id INT NOT NULL,\n",
    "#     user_id VARCHAR(50) NOT NULL,\n",
    "#     doro_address VARCHAR(50) NULL,\n",
    "#     model VARCHAR(50) NULL,\n",
    "#     category VARCHAR(50) NULL,\n",
    "#     price INT NULL,\n",
    "#     rating FLOAT NULL,\n",
    "#     color VARCHAR(50) NULL,\n",
    "#     created_date DATETIME NULL,\n",
    "#     PRIMARY KEY (car_id)\n",
    "# );\n",
    "# '''\n",
    "# cursor.execute(create_table_query)"
   ]
  },
  {
   "cell_type": "code",
   "execution_count": null,
   "id": "c01845ec",
   "metadata": {},
   "outputs": [],
   "source": []
  }
 ],
 "metadata": {
  "kernelspec": {
   "display_name": "Python 3 (ipykernel)",
   "language": "python",
   "name": "python3"
  },
  "language_info": {
   "codemirror_mode": {
    "name": "ipython",
    "version": 3
   },
   "file_extension": ".py",
   "mimetype": "text/x-python",
   "name": "python",
   "nbconvert_exporter": "python",
   "pygments_lexer": "ipython3",
   "version": "3.10.2"
  }
 },
 "nbformat": 4,
 "nbformat_minor": 5
}
